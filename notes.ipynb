{
 "cells": [
  {
   "attachments": {},
   "cell_type": "markdown",
   "metadata": {},
   "source": [
    "# Just random bullshit I write"
   ]
  },
  {
   "attachments": {},
   "cell_type": "markdown",
   "metadata": {},
   "source": [
    "<input type=\"checkbox\"> </input> List input\n",
    "\n",
    "<input type=\"checkbox\"> </input> Tuple input\n",
    "\n",
    "<input type=\"checkbox\"> </input> Min max in list\n",
    "\n",
    "<input type=\"checkbox\"> </input> Dict input\n",
    "\n",
    "<input type=\"checkbox\"> </input> sorting\n"
   ]
  }
 ],
 "metadata": {
  "language_info": {
   "name": "python"
  },
  "orig_nbformat": 4
 },
 "nbformat": 4,
 "nbformat_minor": 2
}
